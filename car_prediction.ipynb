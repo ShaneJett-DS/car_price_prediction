{
 "cells": [
  {
   "cell_type": "code",
   "execution_count": null,
   "metadata": {},
   "outputs": [],
   "source": [
    "import pandas as pd\n",
    "import numpy as np\n",
    "import matplotlib.pyplot as plt\n",
    "import plotly.express as px\n",
    "import seaborn as sns\n",
    "import os\n",
    "\n",
    "pd.set_option(\"display.max_columns\", None)\n",
    "#hello"
   ]
  },
  {
   "cell_type": "code",
   "execution_count": null,
   "metadata": {},
   "outputs": [],
   "source": [
    "cwd = os.getcwd()\n",
    "data_import = pd.read_csv(cwd + \"/Car_Price_Pred.csv\")\n",
    "data_import.head()"
   ]
  },
  {
   "cell_type": "code",
   "execution_count": null,
   "metadata": {},
   "outputs": [],
   "source": [
    "data = data_import.copy()\n",
    "data.info()"
   ]
  },
  {
   "cell_type": "code",
   "execution_count": null,
   "metadata": {},
   "outputs": [],
   "source": [
    "data.isna().sum()"
   ]
  },
  {
   "cell_type": "markdown",
   "metadata": {},
   "source": [
    "#### Create New Features\n",
    "* Make\n",
    "* Model\n",
    "* \"#\" of doors"
   ]
  },
  {
   "cell_type": "code",
   "execution_count": null,
   "metadata": {},
   "outputs": [],
   "source": [
    "# Create make column using CarName variable\n",
    "# Find the count of make\n",
    "data[\"Make\"] = data[\"CarName\"].str.split(\" \").str[0]\n",
    "top_10_make = pd.Series(data[\"Make\"].value_counts().head(n=10))\n",
    "top_10_make_perc = pd.Series(data[\"Make\"].value_counts(normalize=True).head(n=10))\n",
    "\n",
    "\n",
    "display(px.bar(top_10_make))\n",
    "\n",
    "\n",
    "px.bar(top_10_make_perc)\n"
   ]
  },
  {
   "cell_type": "code",
   "execution_count": null,
   "metadata": {},
   "outputs": [],
   "source": [
    "data[\"CarName\"].value_counts()"
   ]
  },
  {
   "cell_type": "code",
   "execution_count": null,
   "metadata": {},
   "outputs": [],
   "source": []
  },
  {
   "cell_type": "code",
   "execution_count": null,
   "metadata": {},
   "outputs": [],
   "source": []
  },
  {
   "cell_type": "code",
   "execution_count": null,
   "metadata": {},
   "outputs": [],
   "source": [
    "#fig, ax = plt.subplots(figsize=(10,6))\n",
    "\n",
    "ax = data.hist(figsize=(15,9))\n",
    "plt.show()"
   ]
  },
  {
   "cell_type": "code",
   "execution_count": null,
   "metadata": {},
   "outputs": [],
   "source": [
    "categorical_data = data.select_dtypes(exclude=[\"int\", \"float\"])\n",
    "categorical_data\n",
    "\n",
    "for x in categorical_data.columns:\n",
    "\n",
    "    fig, ax = plt.subplots()\n",
    "    categorical_data[x].hist()\n",
    "    plt.show()"
   ]
  },
  {
   "cell_type": "markdown",
   "metadata": {},
   "source": [
    "## Separate data into two dataframes: \n",
    "####                                    1.) Body Variables + Target \n",
    "####                                    2.) Engine Variables + Target"
   ]
  },
  {
   "cell_type": "code",
   "execution_count": null,
   "metadata": {},
   "outputs": [],
   "source": [
    "body_data = data[[\"price\", \"wheelbase\", \"carlength\", \"carwidth\", \"carheight\", \"curbweight\"]]\n",
    "engine_data = data[[\"price\", \"enginesize\", \"boreratio\", \"stroke\", \"compressionratio\", \"horsepower\", \"citympg\", \"highwaympg\", \"peakrpm\"]]\n"
   ]
  },
  {
   "cell_type": "markdown",
   "metadata": {},
   "source": [
    "#### Create Correlation Matricies w/Heatmaps"
   ]
  },
  {
   "cell_type": "code",
   "execution_count": null,
   "metadata": {},
   "outputs": [],
   "source": [
    "body_corr = body_data.corr()\n",
    "display(body_corr)\n",
    "\n",
    "fig, ax = plt.subplots(figsize=(12,8))\n",
    "sns.heatmap(body_corr, cmap=\"Blues\", annot=True)\n",
    "plt.title(\"Body Data vs Price Correlation Matrix\", fontsize=20)\n",
    "plt.show()"
   ]
  },
  {
   "cell_type": "code",
   "execution_count": null,
   "metadata": {},
   "outputs": [],
   "source": [
    "engine_corr = engine_data.corr()\n",
    "engine_corr\n",
    "\n",
    "fig, ax = plt.subplots(figsize=(12,8))\n",
    "plt.title(\"Engine Data vs Price Correlation Matrix\", fontsize=20)\n",
    "sns.heatmap(engine_corr, cmap=\"Blues\", annot=True)\n",
    "plt.show()"
   ]
  },
  {
   "cell_type": "markdown",
   "metadata": {},
   "source": [
    "#### Visualize linear associations (Body Data)"
   ]
  },
  {
   "cell_type": "code",
   "execution_count": null,
   "metadata": {},
   "outputs": [],
   "source": [
    "px.scatter(body_data, x=\"price\", y=\"curbweight\", title=\"Curb Weight vs Price\", trendline=\"ols\")"
   ]
  },
  {
   "cell_type": "code",
   "execution_count": null,
   "metadata": {},
   "outputs": [],
   "source": [
    "px.scatter(body_data, x=\"price\", y=\"carwidth\", title=\"Car Width vs Price\", trendline=\"ols\")"
   ]
  },
  {
   "cell_type": "code",
   "execution_count": null,
   "metadata": {},
   "outputs": [],
   "source": [
    "px.scatter(body_data, x=\"price\", y=\"carlength\", title=\"Car Length vs Price\", trendline=\"ols\")"
   ]
  },
  {
   "cell_type": "code",
   "execution_count": null,
   "metadata": {},
   "outputs": [],
   "source": [
    "px.scatter(body_data, x=\"price\", y=\"wheelbase\", title=\"Wheel Base vs Price\", trendline=\"ols\")"
   ]
  },
  {
   "cell_type": "markdown",
   "metadata": {},
   "source": [
    "#### Visualize linear associations (Engine Data)"
   ]
  },
  {
   "cell_type": "code",
   "execution_count": null,
   "metadata": {},
   "outputs": [],
   "source": [
    "px.scatter(engine_data, x=\"price\", y=\"enginesize\", title=\"Engine Size vs Price\", trendline=\"ols\")"
   ]
  },
  {
   "cell_type": "code",
   "execution_count": null,
   "metadata": {},
   "outputs": [],
   "source": [
    "px.scatter(engine_data, x=\"price\", y=\"horsepower\", title=\"Horsepower vs Price\", trendline=\"ols\")"
   ]
  },
  {
   "cell_type": "code",
   "execution_count": null,
   "metadata": {},
   "outputs": [],
   "source": [
    "#fig, ax = plt.subplots()\n",
    "\n",
    "px.scatter(engine_data, x=\"price\", y=\"highwaympg\", title=\"Highway MPG vs Price\", trendline=\"ols\")\n"
   ]
  },
  {
   "cell_type": "code",
   "execution_count": null,
   "metadata": {},
   "outputs": [],
   "source": [
    "fig, ax = plt.subplots(figsize=(10,6))\n",
    "sns.regplot(data=engine_data, x=\"price\", y=\"enginesize\", scatter=True)"
   ]
  },
  {
   "cell_type": "markdown",
   "metadata": {},
   "source": [
    "#### Visualize linear associations (Body Data)"
   ]
  },
  {
   "cell_type": "code",
   "execution_count": null,
   "metadata": {},
   "outputs": [],
   "source": []
  },
  {
   "cell_type": "code",
   "execution_count": null,
   "metadata": {},
   "outputs": [],
   "source": []
  },
  {
   "cell_type": "code",
   "execution_count": null,
   "metadata": {},
   "outputs": [],
   "source": []
  },
  {
   "cell_type": "code",
   "execution_count": null,
   "metadata": {},
   "outputs": [],
   "source": []
  },
  {
   "cell_type": "code",
   "execution_count": null,
   "metadata": {},
   "outputs": [],
   "source": []
  },
  {
   "cell_type": "code",
   "execution_count": null,
   "metadata": {},
   "outputs": [],
   "source": [
    "from sklearn.linear_model import LinearRegression\n",
    "from sklearn.model_selection import cross_val_score, KFold\n",
    "from sklearn.metrics import accuracy_score, r2_score"
   ]
  },
  {
   "cell_type": "code",
   "execution_count": null,
   "metadata": {},
   "outputs": [],
   "source": [
    "X = engine_data.drop(\"price\", axis=1)\n",
    "y = engine_data[\"price\"]\n",
    "\n",
    "lin_reg = LinearRegression()\n",
    "kf = KFold(n_splits=5)\n",
    "cv_engine = cross_val_score(lin_reg, X, y, cv=kf)\n",
    "cv_engine"
   ]
  },
  {
   "cell_type": "code",
   "execution_count": null,
   "metadata": {},
   "outputs": [],
   "source": [
    "cv_engine.mean()"
   ]
  },
  {
   "cell_type": "code",
   "execution_count": null,
   "metadata": {},
   "outputs": [],
   "source": [
    "X = body_data.drop(\"price\", axis=1)\n",
    "y = body_data[\"price\"]\n",
    "\n",
    "lin_reg = LinearRegression()\n",
    "kf = KFold(n_splits=5)\n",
    "cv_body = cross_val_score(lin_reg, X, y, cv=kf)\n",
    "cv_body.mean()"
   ]
  },
  {
   "cell_type": "code",
   "execution_count": null,
   "metadata": {},
   "outputs": [],
   "source": []
  }
 ],
 "metadata": {
  "kernelspec": {
   "display_name": "Python 3.9.7 ('minimal_ds')",
   "language": "python",
   "name": "python3"
  },
  "language_info": {
   "codemirror_mode": {
    "name": "ipython",
    "version": 3
   },
   "file_extension": ".py",
   "mimetype": "text/x-python",
   "name": "python",
   "nbconvert_exporter": "python",
   "pygments_lexer": "ipython3",
   "version": "3.9.7"
  },
  "orig_nbformat": 4,
  "vscode": {
   "interpreter": {
    "hash": "98e2d319af96e9f8da81d38a5d6af667c8351e31b4b91fe344c387929efa3a5e"
   }
  }
 },
 "nbformat": 4,
 "nbformat_minor": 2
}
